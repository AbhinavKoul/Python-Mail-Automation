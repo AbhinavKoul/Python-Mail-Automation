{
 "cells": [
  {
   "cell_type": "code",
   "execution_count": 54,
   "metadata": {},
   "outputs": [],
   "source": [
    "import os\n",
    "import pandas as pd\n"
   ]
  },
  {
   "cell_type": "code",
   "execution_count": 55,
   "metadata": {},
   "outputs": [],
   "source": [
    "root = \"../Data/Test/\"\n",
    "data = pd.read_csv(os.path.join(root,\"Testing.csv\"))\n",
    "data = data[[\"Email Address\",\"usn\",\"Name\",\"Mail Status\"]]"
   ]
  },
  {
   "cell_type": "code",
   "execution_count": 56,
   "metadata": {},
   "outputs": [
    {
     "name": "stdout",
     "output_type": "stream",
     "text": [
      "                   Email Address         usn                    Name  \\\n",
      "0         architlatkar@gmail.com  1ms18cs027           archit latkar   \n",
      "1    abhinav2scientist@gmail.com  1ms18is006            Abhinav Koul   \n",
      "2            adityajpd@gmail.com    1msec098                  Aditya   \n",
      "3      nischithraj.24g@gmail.com  1MS19EC075                Nischith   \n",
      "4            adityabala@live.com  1MS19ME012  Aditya Balasubramaniam   \n",
      "5       manoj1000manoj@gmail.com  1MS19EC064                   Manoj   \n",
      "6  koppisetti.saitarun@gmail.com  1MS18TE046             K Sai Tarun   \n",
      "7            vridhi.vk@gmail.com  1ms19cs143                 Vridhi    \n",
      "\n",
      "  Mail Status  \n",
      "0    ERROR!!!  \n",
      "1        SEND  \n",
      "2    ERROR!!!  \n",
      "3        SEND  \n",
      "4    ERROR!!!  \n",
      "5        SEND  \n",
      "6    ERROR!!!  \n",
      "7        SEND  \n"
     ]
    }
   ],
   "source": [
    "\n",
    "print(data)"
   ]
  },
  {
   "cell_type": "code",
   "execution_count": 57,
   "metadata": {},
   "outputs": [],
   "source": [
    "left = data.groupby(\"Mail Status\")"
   ]
  },
  {
   "cell_type": "code",
   "execution_count": 60,
   "metadata": {},
   "outputs": [
    {
     "data": {
      "text/plain": [
       "4"
      ]
     },
     "execution_count": 60,
     "metadata": {},
     "output_type": "execute_result"
    }
   ],
   "source": [
    "total = left.count()[\"Email Address\"][\"ERROR!!!\"]"
   ]
  },
  {
   "cell_type": "code",
   "execution_count": null,
   "metadata": {},
   "outputs": [],
   "source": []
  },
  {
   "cell_type": "code",
   "execution_count": 50,
   "metadata": {},
   "outputs": [
    {
     "name": "stdout",
     "output_type": "stream",
     "text": [
      "Mail Sent ==> (0/8)\n",
      "Mail Sent ==> (1/8)\n",
      "Mail Sent ==> (1/8)\n",
      "Mail Sent ==> (2/8)\n",
      "Mail Sent ==> (2/8)\n",
      "Mail Sent ==> (3/8)\n",
      "Mail Sent ==> (3/8)\n",
      "Mail Sent ==> (4/8)\n"
     ]
    }
   ],
   "source": [
    "total = data[\"Email Address\"].count()\n",
    "send_count = 0\n",
    "for index,row in data.iterrows():\n",
    "    if(row[\"Mail Status\"] == \"SEND\"):\n",
    "            continue\n",
    "    else:\n",
    "        send = row[\"Email Address\"]\n",
    "        name = row[\"Name\"]\n",
    "        try:\n",
    "#             if(index%2 == 0):\n",
    "#                 raise Exception(\"Spam\",\"eggs\")\n",
    "            send_count +=1\n",
    "            row[\"Mail Status\"] = \"SEND\"\n",
    "            print(\"Mail Sent ==> (\"+str(send_count)+\"/\"+str(total)+\")\")\n",
    "        except:\n",
    "            row[\"Mail Status\"] = \"ERROR!!!\"\n",
    "            print(\"Mail Sent ==> (\"+str(send_count)+\"/\"+str(total)+\")\")"
   ]
  },
  {
   "cell_type": "code",
   "execution_count": 47,
   "metadata": {},
   "outputs": [
    {
     "name": "stdout",
     "output_type": "stream",
     "text": [
      "Error: unable to send email\n"
     ]
    }
   ],
   "source": [
    "import smtplib\n",
    "\n",
    "message = \"\"\"From: From Person <from@fromdomain.com>\n",
    "To: To Person <to@todomain.com>\n",
    "MIME-Version: 1.0\n",
    "Content-type: text/html\n",
    "Subject: SMTP HTML e-mail test\n",
    "\n",
    "This is an e-mail message to be sent in HTML format\n",
    "\n",
    "<b>This is HTML message.</b>\n",
    "<h1>This is headline.</h1>\n",
    "\"\"\"\n",
    "\n",
    "try:\n",
    "   smtpObj = smtplib.SMTP('localhost')\n",
    "   smtpObj.sendmail(sender, receivers, message)         \n",
    "   print(\"Successfully sent email\")\n",
    "except:\n",
    "   print(\"Error: unable to send email\")\n",
    "    "
   ]
  },
  {
   "cell_type": "code",
   "execution_count": 51,
   "metadata": {},
   "outputs": [
    {
     "data": {
      "text/html": [
       "<div>\n",
       "<style scoped>\n",
       "    .dataframe tbody tr th:only-of-type {\n",
       "        vertical-align: middle;\n",
       "    }\n",
       "\n",
       "    .dataframe tbody tr th {\n",
       "        vertical-align: top;\n",
       "    }\n",
       "\n",
       "    .dataframe thead th {\n",
       "        text-align: right;\n",
       "    }\n",
       "</style>\n",
       "<table border=\"1\" class=\"dataframe\">\n",
       "  <thead>\n",
       "    <tr style=\"text-align: right;\">\n",
       "      <th></th>\n",
       "      <th>Email Address</th>\n",
       "      <th>usn</th>\n",
       "      <th>Name</th>\n",
       "      <th>Mail Status</th>\n",
       "    </tr>\n",
       "  </thead>\n",
       "  <tbody>\n",
       "    <tr>\n",
       "      <th>0</th>\n",
       "      <td>architlatkar@gmail.com</td>\n",
       "      <td>1ms18cs027</td>\n",
       "      <td>archit latkar</td>\n",
       "      <td>ERROR!!!</td>\n",
       "    </tr>\n",
       "    <tr>\n",
       "      <th>1</th>\n",
       "      <td>abhinav2scientist@gmail.com</td>\n",
       "      <td>1ms18is006</td>\n",
       "      <td>Abhinav Koul</td>\n",
       "      <td>SEND</td>\n",
       "    </tr>\n",
       "    <tr>\n",
       "      <th>2</th>\n",
       "      <td>adityajpd@gmail.com</td>\n",
       "      <td>1msec098</td>\n",
       "      <td>Aditya</td>\n",
       "      <td>ERROR!!!</td>\n",
       "    </tr>\n",
       "    <tr>\n",
       "      <th>3</th>\n",
       "      <td>nischithraj.24g@gmail.com</td>\n",
       "      <td>1MS19EC075</td>\n",
       "      <td>Nischith</td>\n",
       "      <td>SEND</td>\n",
       "    </tr>\n",
       "    <tr>\n",
       "      <th>4</th>\n",
       "      <td>adityabala@live.com</td>\n",
       "      <td>1MS19ME012</td>\n",
       "      <td>Aditya Balasubramaniam</td>\n",
       "      <td>ERROR!!!</td>\n",
       "    </tr>\n",
       "    <tr>\n",
       "      <th>5</th>\n",
       "      <td>manoj1000manoj@gmail.com</td>\n",
       "      <td>1MS19EC064</td>\n",
       "      <td>Manoj</td>\n",
       "      <td>SEND</td>\n",
       "    </tr>\n",
       "    <tr>\n",
       "      <th>6</th>\n",
       "      <td>koppisetti.saitarun@gmail.com</td>\n",
       "      <td>1MS18TE046</td>\n",
       "      <td>K Sai Tarun</td>\n",
       "      <td>ERROR!!!</td>\n",
       "    </tr>\n",
       "    <tr>\n",
       "      <th>7</th>\n",
       "      <td>vridhi.vk@gmail.com</td>\n",
       "      <td>1ms19cs143</td>\n",
       "      <td>Vridhi</td>\n",
       "      <td>SEND</td>\n",
       "    </tr>\n",
       "  </tbody>\n",
       "</table>\n",
       "</div>"
      ],
      "text/plain": [
       "                   Email Address         usn                    Name  \\\n",
       "0         architlatkar@gmail.com  1ms18cs027           archit latkar   \n",
       "1    abhinav2scientist@gmail.com  1ms18is006            Abhinav Koul   \n",
       "2            adityajpd@gmail.com    1msec098                  Aditya   \n",
       "3      nischithraj.24g@gmail.com  1MS19EC075                Nischith   \n",
       "4            adityabala@live.com  1MS19ME012  Aditya Balasubramaniam   \n",
       "5       manoj1000manoj@gmail.com  1MS19EC064                   Manoj   \n",
       "6  koppisetti.saitarun@gmail.com  1MS18TE046             K Sai Tarun   \n",
       "7            vridhi.vk@gmail.com  1ms19cs143                 Vridhi    \n",
       "\n",
       "  Mail Status  \n",
       "0    ERROR!!!  \n",
       "1        SEND  \n",
       "2    ERROR!!!  \n",
       "3        SEND  \n",
       "4    ERROR!!!  \n",
       "5        SEND  \n",
       "6    ERROR!!!  \n",
       "7        SEND  "
      ]
     },
     "execution_count": 51,
     "metadata": {},
     "output_type": "execute_result"
    }
   ],
   "source": [
    "data"
   ]
  },
  {
   "cell_type": "code",
   "execution_count": 53,
   "metadata": {},
   "outputs": [],
   "source": [
    " data.to_csv(os.path.join(root,\"Testing.csv\"))"
   ]
  }
 ],
 "metadata": {
  "kernelspec": {
   "display_name": "Python 3",
   "language": "python",
   "name": "python3"
  },
  "language_info": {
   "codemirror_mode": {
    "name": "ipython",
    "version": 3
   },
   "file_extension": ".py",
   "mimetype": "text/x-python",
   "name": "python",
   "nbconvert_exporter": "python",
   "pygments_lexer": "ipython3",
   "version": "3.7.6"
  }
 },
 "nbformat": 4,
 "nbformat_minor": 4
}
